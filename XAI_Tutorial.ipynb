{
  "nbformat": 4,
  "nbformat_minor": 0,
  "metadata": {
    "colab": {
      "name": "XAI_Tutorial.ipynb",
      "provenance": [],
      "collapsed_sections": [],
      "authorship_tag": "ABX9TyMuJXfiZk30wPwKsWIiL7m9",
      "include_colab_link": true
    },
    "kernelspec": {
      "name": "python3",
      "display_name": "Python 3"
    }
  },
  "cells": [
    {
      "cell_type": "markdown",
      "metadata": {
        "id": "view-in-github",
        "colab_type": "text"
      },
      "source": [
        "<a href=\"https://colab.research.google.com/github/Elamraoui-Sohayb/explainable_ai/blob/main/XAI_Tutorial.ipynb\" target=\"_parent\"><img src=\"https://colab.research.google.com/assets/colab-badge.svg\" alt=\"Open In Colab\"/></a>"
      ]
    },
    {
      "cell_type": "markdown",
      "metadata": {
        "id": "NfOR7CTrkRAe"
      },
      "source": [
        "# diagnostiquez vos modèles d'apprentissage automatique avec des frameworks d'IA explicables\r\n",
        "\r\n",
        "Dans l'histoire de l'ingénierie et de l'apprentissage automatique, il est essentiel de choisir des modèles transparents interprétables pour les humains ou les utilisateurs finaux. Pratiquement, cela signifie utiliser des sources de données transparentes et des modèles simples et faciles à interpréter comme des modèles linéaires et des arbres de décision ou même des systèmes basés sur des règles malgré leurs limites dues aux scénarios du monde réel où les observations sont non linéaires et très spécifiques. Avec la croissance massive de l'apprentissage automatique et de la popularité du deep learning, la complexité des modèles et la diffusion de l'IA dans tous les domaines, il est devenu crucial de disposer d'approches et de mécanismes pour expliquer les modèles et interpréter des prédictions précises et inexactes.\r\n",
        "\r\n",
        "\r\n",
        "### **C'est quoi l'Explainable AI (XAI)?**\r\n",
        "\r\n",
        "Explainable AI correspond non seulement à domaine théorique de rechech mais aussi un ensemble d'outils et de frameworks conçus pour  aider à comprendre et à interpréter les prédictions effectuées par les modèles de machine learning. Il permet, entre autres, de résoudre les problèmes de performances de modèles et d'améliorer celles-ci, et aide les usitlisateurs à comprendre leur comportement.\r\n",
        "\r\n",
        "---\r\n",
        "# diagnose your Machine Learning models with explainable AI frameworks\r\n",
        "\r\n",
        "In the history of engineering and machine learning, choosing transparent models that are interpretable for humans or end-users is essential. Practically, it means using transparent data sources and simple and easy to interpret models like linear models and decision trees or even rule-based systems despite their limitations due to real-world scenarios where observations are nonlinear and very specific. With the massive growth of machine learning and deep learning popularity, model complexity, and the spread of AI in all fields, it has became crucial to have approaches and mechanisms to explain models and interpret accurate and inaccurate predictions.\r\n",
        "\r\n"
      ]
    },
    {
      "cell_type": "code",
      "metadata": {
        "id": "mzCx4bnkiI2y"
      },
      "source": [
        "# Imports for plotting and data manipulation\r\n",
        "import pandas as pd\r\n",
        "import seaborn as sns\r\n",
        "import matplotlib.pyplot as plt\r\n",
        "import numpy as np\r\n",
        "pd.set_option('display.max_rows', 500)\r\n",
        "pd.set_option('display.max_columns', 500)\r\n",
        "pd.set_option('display.width', 1000)\r\n",
        "# Imports for modeling and evaluation\r\n",
        "from sklearn.model_selection import train_test_split\r\n",
        "from sklearn.model_selection import RandomizedSearchCV, GridSearchCV\r\n",
        "from sklearn import metrics\r\n",
        "from sklearn.ensemble import RandomForestClassifier"
      ],
      "execution_count": 1,
      "outputs": []
    },
    {
      "cell_type": "code",
      "metadata": {
        "colab": {
          "base_uri": "https://localhost:8080/",
          "height": 35
        },
        "id": "DzatKJrTilbm",
        "outputId": "0dcfdbc3-b771-4db6-e10c-3bd5412928cf"
      },
      "source": [
        "import os \r\n",
        "os.getcwd()"
      ],
      "execution_count": 2,
      "outputs": [
        {
          "output_type": "execute_result",
          "data": {
            "application/vnd.google.colaboratory.intrinsic+json": {
              "type": "string"
            },
            "text/plain": [
              "'/content'"
            ]
          },
          "metadata": {
            "tags": []
          },
          "execution_count": 2
        }
      ]
    },
    {
      "cell_type": "code",
      "metadata": {
        "id": "9nI99QEcib9R"
      },
      "source": [
        "data = pd.read_csv('./udemy_courses.csv')"
      ],
      "execution_count": 3,
      "outputs": []
    },
    {
      "cell_type": "code",
      "metadata": {
        "colab": {
          "base_uri": "https://localhost:8080/",
          "height": 498
        },
        "id": "IQMENEyDizgj",
        "outputId": "16a4e566-96ca-4cd6-d195-53ff4bed8a14"
      },
      "source": [
        "data.head()"
      ],
      "execution_count": 4,
      "outputs": [
        {
          "output_type": "execute_result",
          "data": {
            "text/html": [
              "<div>\n",
              "<style scoped>\n",
              "    .dataframe tbody tr th:only-of-type {\n",
              "        vertical-align: middle;\n",
              "    }\n",
              "\n",
              "    .dataframe tbody tr th {\n",
              "        vertical-align: top;\n",
              "    }\n",
              "\n",
              "    .dataframe thead th {\n",
              "        text-align: right;\n",
              "    }\n",
              "</style>\n",
              "<table border=\"1\" class=\"dataframe\">\n",
              "  <thead>\n",
              "    <tr style=\"text-align: right;\">\n",
              "      <th></th>\n",
              "      <th>course_id</th>\n",
              "      <th>course_title</th>\n",
              "      <th>url</th>\n",
              "      <th>is_paid</th>\n",
              "      <th>price</th>\n",
              "      <th>num_subscribers</th>\n",
              "      <th>num_reviews</th>\n",
              "      <th>num_lectures</th>\n",
              "      <th>level</th>\n",
              "      <th>content_duration</th>\n",
              "      <th>published_timestamp</th>\n",
              "      <th>subject</th>\n",
              "    </tr>\n",
              "  </thead>\n",
              "  <tbody>\n",
              "    <tr>\n",
              "      <th>0</th>\n",
              "      <td>1070968</td>\n",
              "      <td>Ultimate Investment Banking Course</td>\n",
              "      <td>https://www.udemy.com/ultimate-investment-bank...</td>\n",
              "      <td>True</td>\n",
              "      <td>200</td>\n",
              "      <td>2147</td>\n",
              "      <td>23</td>\n",
              "      <td>51</td>\n",
              "      <td>All Levels</td>\n",
              "      <td>1.5</td>\n",
              "      <td>2017-01-18T20:58:58Z</td>\n",
              "      <td>Business Finance</td>\n",
              "    </tr>\n",
              "    <tr>\n",
              "      <th>1</th>\n",
              "      <td>1113822</td>\n",
              "      <td>Complete GST Course &amp; Certification - Grow You...</td>\n",
              "      <td>https://www.udemy.com/goods-and-services-tax/</td>\n",
              "      <td>True</td>\n",
              "      <td>75</td>\n",
              "      <td>2792</td>\n",
              "      <td>923</td>\n",
              "      <td>274</td>\n",
              "      <td>All Levels</td>\n",
              "      <td>39.0</td>\n",
              "      <td>2017-03-09T16:34:20Z</td>\n",
              "      <td>Business Finance</td>\n",
              "    </tr>\n",
              "    <tr>\n",
              "      <th>2</th>\n",
              "      <td>1006314</td>\n",
              "      <td>Financial Modeling for Business Analysts and C...</td>\n",
              "      <td>https://www.udemy.com/financial-modeling-for-b...</td>\n",
              "      <td>True</td>\n",
              "      <td>45</td>\n",
              "      <td>2174</td>\n",
              "      <td>74</td>\n",
              "      <td>51</td>\n",
              "      <td>Intermediate Level</td>\n",
              "      <td>2.5</td>\n",
              "      <td>2016-12-19T19:26:30Z</td>\n",
              "      <td>Business Finance</td>\n",
              "    </tr>\n",
              "    <tr>\n",
              "      <th>3</th>\n",
              "      <td>1210588</td>\n",
              "      <td>Beginner to Pro - Financial Analysis in Excel ...</td>\n",
              "      <td>https://www.udemy.com/complete-excel-finance-c...</td>\n",
              "      <td>True</td>\n",
              "      <td>95</td>\n",
              "      <td>2451</td>\n",
              "      <td>11</td>\n",
              "      <td>36</td>\n",
              "      <td>All Levels</td>\n",
              "      <td>3.0</td>\n",
              "      <td>2017-05-30T20:07:24Z</td>\n",
              "      <td>Business Finance</td>\n",
              "    </tr>\n",
              "    <tr>\n",
              "      <th>4</th>\n",
              "      <td>1011058</td>\n",
              "      <td>How To Maximize Your Profits Trading Options</td>\n",
              "      <td>https://www.udemy.com/how-to-maximize-your-pro...</td>\n",
              "      <td>True</td>\n",
              "      <td>200</td>\n",
              "      <td>1276</td>\n",
              "      <td>45</td>\n",
              "      <td>26</td>\n",
              "      <td>Intermediate Level</td>\n",
              "      <td>2.0</td>\n",
              "      <td>2016-12-13T14:57:18Z</td>\n",
              "      <td>Business Finance</td>\n",
              "    </tr>\n",
              "  </tbody>\n",
              "</table>\n",
              "</div>"
            ],
            "text/plain": [
              "   course_id                                       course_title                                                url  is_paid  price  num_subscribers  num_reviews  num_lectures               level  content_duration   published_timestamp           subject\n",
              "0    1070968                 Ultimate Investment Banking Course  https://www.udemy.com/ultimate-investment-bank...     True    200             2147           23            51          All Levels               1.5  2017-01-18T20:58:58Z  Business Finance\n",
              "1    1113822  Complete GST Course & Certification - Grow You...      https://www.udemy.com/goods-and-services-tax/     True     75             2792          923           274          All Levels              39.0  2017-03-09T16:34:20Z  Business Finance\n",
              "2    1006314  Financial Modeling for Business Analysts and C...  https://www.udemy.com/financial-modeling-for-b...     True     45             2174           74            51  Intermediate Level               2.5  2016-12-19T19:26:30Z  Business Finance\n",
              "3    1210588  Beginner to Pro - Financial Analysis in Excel ...  https://www.udemy.com/complete-excel-finance-c...     True     95             2451           11            36          All Levels               3.0  2017-05-30T20:07:24Z  Business Finance\n",
              "4    1011058       How To Maximize Your Profits Trading Options  https://www.udemy.com/how-to-maximize-your-pro...     True    200             1276           45            26  Intermediate Level               2.0  2016-12-13T14:57:18Z  Business Finance"
            ]
          },
          "metadata": {
            "tags": []
          },
          "execution_count": 4
        }
      ]
    },
    {
      "cell_type": "code",
      "metadata": {
        "colab": {
          "base_uri": "https://localhost:8080/"
        },
        "id": "KQt4kI-ni6SR",
        "outputId": "739c853e-879a-4143-c7bd-c557762a9b53"
      },
      "source": [
        "data.shape"
      ],
      "execution_count": 5,
      "outputs": [
        {
          "output_type": "execute_result",
          "data": {
            "text/plain": [
              "(3678, 12)"
            ]
          },
          "metadata": {
            "tags": []
          },
          "execution_count": 5
        }
      ]
    },
    {
      "cell_type": "code",
      "metadata": {
        "colab": {
          "base_uri": "https://localhost:8080/"
        },
        "id": "zHtV0yjVyCai",
        "outputId": "69856174-3f6a-4851-a8ee-dd23186bb158"
      },
      "source": [
        "data.info()"
      ],
      "execution_count": 6,
      "outputs": [
        {
          "output_type": "stream",
          "text": [
            "<class 'pandas.core.frame.DataFrame'>\n",
            "RangeIndex: 3678 entries, 0 to 3677\n",
            "Data columns (total 12 columns):\n",
            " #   Column               Non-Null Count  Dtype  \n",
            "---  ------               --------------  -----  \n",
            " 0   course_id            3678 non-null   int64  \n",
            " 1   course_title         3678 non-null   object \n",
            " 2   url                  3678 non-null   object \n",
            " 3   is_paid              3678 non-null   bool   \n",
            " 4   price                3678 non-null   int64  \n",
            " 5   num_subscribers      3678 non-null   int64  \n",
            " 6   num_reviews          3678 non-null   int64  \n",
            " 7   num_lectures         3678 non-null   int64  \n",
            " 8   level                3678 non-null   object \n",
            " 9   content_duration     3678 non-null   float64\n",
            " 10  published_timestamp  3678 non-null   object \n",
            " 11  subject              3678 non-null   object \n",
            "dtypes: bool(1), float64(1), int64(5), object(5)\n",
            "memory usage: 319.8+ KB\n"
          ],
          "name": "stdout"
        }
      ]
    },
    {
      "cell_type": "code",
      "metadata": {
        "id": "vMXRstX0lg3-"
      },
      "source": [
        "data[\"published_month\"] = pd.to_datetime(data.published_timestamp).dt.month.astype('object')\r\n",
        "data[\"published_year\"] = pd.to_datetime(data.published_timestamp).dt.year.astype('object')\r\n",
        "df = data.drop(columns=[\"course_id\", \"course_title\", \"url\", \"published_timestamp\"])"
      ],
      "execution_count": 7,
      "outputs": []
    },
    {
      "cell_type": "code",
      "metadata": {
        "colab": {
          "base_uri": "https://localhost:8080/",
          "height": 1000
        },
        "id": "6RdyhlZPnR_I",
        "outputId": "c32ab907-4f9a-4c0d-bacf-7150215abe42"
      },
      "source": [
        "df.sample(n=50, random_state=5)"
      ],
      "execution_count": 8,
      "outputs": [
        {
          "output_type": "execute_result",
          "data": {
            "text/html": [
              "<div>\n",
              "<style scoped>\n",
              "    .dataframe tbody tr th:only-of-type {\n",
              "        vertical-align: middle;\n",
              "    }\n",
              "\n",
              "    .dataframe tbody tr th {\n",
              "        vertical-align: top;\n",
              "    }\n",
              "\n",
              "    .dataframe thead th {\n",
              "        text-align: right;\n",
              "    }\n",
              "</style>\n",
              "<table border=\"1\" class=\"dataframe\">\n",
              "  <thead>\n",
              "    <tr style=\"text-align: right;\">\n",
              "      <th></th>\n",
              "      <th>is_paid</th>\n",
              "      <th>price</th>\n",
              "      <th>num_subscribers</th>\n",
              "      <th>num_reviews</th>\n",
              "      <th>num_lectures</th>\n",
              "      <th>level</th>\n",
              "      <th>content_duration</th>\n",
              "      <th>subject</th>\n",
              "      <th>published_month</th>\n",
              "      <th>published_year</th>\n",
              "    </tr>\n",
              "  </thead>\n",
              "  <tbody>\n",
              "    <tr>\n",
              "      <th>3480</th>\n",
              "      <td>True</td>\n",
              "      <td>50</td>\n",
              "      <td>394</td>\n",
              "      <td>78</td>\n",
              "      <td>22</td>\n",
              "      <td>Beginner Level</td>\n",
              "      <td>1.500000</td>\n",
              "      <td>Web Development</td>\n",
              "      <td>2</td>\n",
              "      <td>2016</td>\n",
              "    </tr>\n",
              "    <tr>\n",
              "      <th>2830</th>\n",
              "      <td>False</td>\n",
              "      <td>0</td>\n",
              "      <td>21087</td>\n",
              "      <td>154</td>\n",
              "      <td>24</td>\n",
              "      <td>Beginner Level</td>\n",
              "      <td>3.500000</td>\n",
              "      <td>Web Development</td>\n",
              "      <td>4</td>\n",
              "      <td>2014</td>\n",
              "    </tr>\n",
              "    <tr>\n",
              "      <th>2151</th>\n",
              "      <td>True</td>\n",
              "      <td>40</td>\n",
              "      <td>32</td>\n",
              "      <td>3</td>\n",
              "      <td>11</td>\n",
              "      <td>All Levels</td>\n",
              "      <td>1.000000</td>\n",
              "      <td>Musical Instruments</td>\n",
              "      <td>2</td>\n",
              "      <td>2017</td>\n",
              "    </tr>\n",
              "    <tr>\n",
              "      <th>148</th>\n",
              "      <td>True</td>\n",
              "      <td>20</td>\n",
              "      <td>2437</td>\n",
              "      <td>12</td>\n",
              "      <td>23</td>\n",
              "      <td>All Levels</td>\n",
              "      <td>1.500000</td>\n",
              "      <td>Business Finance</td>\n",
              "      <td>11</td>\n",
              "      <td>2016</td>\n",
              "    </tr>\n",
              "    <tr>\n",
              "      <th>95</th>\n",
              "      <td>False</td>\n",
              "      <td>0</td>\n",
              "      <td>1514</td>\n",
              "      <td>66</td>\n",
              "      <td>11</td>\n",
              "      <td>Beginner Level</td>\n",
              "      <td>0.550000</td>\n",
              "      <td>Business Finance</td>\n",
              "      <td>3</td>\n",
              "      <td>2017</td>\n",
              "    </tr>\n",
              "    <tr>\n",
              "      <th>1831</th>\n",
              "      <td>True</td>\n",
              "      <td>20</td>\n",
              "      <td>122</td>\n",
              "      <td>9</td>\n",
              "      <td>11</td>\n",
              "      <td>Beginner Level</td>\n",
              "      <td>0.633333</td>\n",
              "      <td>Musical Instruments</td>\n",
              "      <td>10</td>\n",
              "      <td>2015</td>\n",
              "    </tr>\n",
              "    <tr>\n",
              "      <th>982</th>\n",
              "      <td>True</td>\n",
              "      <td>20</td>\n",
              "      <td>176</td>\n",
              "      <td>2</td>\n",
              "      <td>12</td>\n",
              "      <td>Intermediate Level</td>\n",
              "      <td>2.500000</td>\n",
              "      <td>Business Finance</td>\n",
              "      <td>6</td>\n",
              "      <td>2016</td>\n",
              "    </tr>\n",
              "    <tr>\n",
              "      <th>2015</th>\n",
              "      <td>True</td>\n",
              "      <td>95</td>\n",
              "      <td>2026</td>\n",
              "      <td>3</td>\n",
              "      <td>62</td>\n",
              "      <td>Intermediate Level</td>\n",
              "      <td>2.500000</td>\n",
              "      <td>Musical Instruments</td>\n",
              "      <td>3</td>\n",
              "      <td>2017</td>\n",
              "    </tr>\n",
              "    <tr>\n",
              "      <th>1065</th>\n",
              "      <td>True</td>\n",
              "      <td>20</td>\n",
              "      <td>28</td>\n",
              "      <td>3</td>\n",
              "      <td>14</td>\n",
              "      <td>Expert Level</td>\n",
              "      <td>1.000000</td>\n",
              "      <td>Business Finance</td>\n",
              "      <td>4</td>\n",
              "      <td>2015</td>\n",
              "    </tr>\n",
              "    <tr>\n",
              "      <th>812</th>\n",
              "      <td>True</td>\n",
              "      <td>20</td>\n",
              "      <td>978</td>\n",
              "      <td>7</td>\n",
              "      <td>13</td>\n",
              "      <td>Beginner Level</td>\n",
              "      <td>0.533333</td>\n",
              "      <td>Business Finance</td>\n",
              "      <td>1</td>\n",
              "      <td>2016</td>\n",
              "    </tr>\n",
              "    <tr>\n",
              "      <th>3121</th>\n",
              "      <td>True</td>\n",
              "      <td>105</td>\n",
              "      <td>710</td>\n",
              "      <td>137</td>\n",
              "      <td>49</td>\n",
              "      <td>Beginner Level</td>\n",
              "      <td>3.500000</td>\n",
              "      <td>Web Development</td>\n",
              "      <td>4</td>\n",
              "      <td>2017</td>\n",
              "    </tr>\n",
              "    <tr>\n",
              "      <th>684</th>\n",
              "      <td>True</td>\n",
              "      <td>20</td>\n",
              "      <td>147</td>\n",
              "      <td>4</td>\n",
              "      <td>5</td>\n",
              "      <td>All Levels</td>\n",
              "      <td>1.000000</td>\n",
              "      <td>Business Finance</td>\n",
              "      <td>8</td>\n",
              "      <td>2013</td>\n",
              "    </tr>\n",
              "    <tr>\n",
              "      <th>126</th>\n",
              "      <td>True</td>\n",
              "      <td>20</td>\n",
              "      <td>1951</td>\n",
              "      <td>30</td>\n",
              "      <td>20</td>\n",
              "      <td>Intermediate Level</td>\n",
              "      <td>0.550000</td>\n",
              "      <td>Business Finance</td>\n",
              "      <td>10</td>\n",
              "      <td>2015</td>\n",
              "    </tr>\n",
              "    <tr>\n",
              "      <th>2375</th>\n",
              "      <td>True</td>\n",
              "      <td>95</td>\n",
              "      <td>14</td>\n",
              "      <td>1</td>\n",
              "      <td>34</td>\n",
              "      <td>Beginner Level</td>\n",
              "      <td>2.500000</td>\n",
              "      <td>Musical Instruments</td>\n",
              "      <td>4</td>\n",
              "      <td>2016</td>\n",
              "    </tr>\n",
              "    <tr>\n",
              "      <th>3149</th>\n",
              "      <td>True</td>\n",
              "      <td>195</td>\n",
              "      <td>1121</td>\n",
              "      <td>174</td>\n",
              "      <td>62</td>\n",
              "      <td>Intermediate Level</td>\n",
              "      <td>5.000000</td>\n",
              "      <td>Web Development</td>\n",
              "      <td>5</td>\n",
              "      <td>2017</td>\n",
              "    </tr>\n",
              "    <tr>\n",
              "      <th>2861</th>\n",
              "      <td>True</td>\n",
              "      <td>20</td>\n",
              "      <td>1517</td>\n",
              "      <td>4</td>\n",
              "      <td>12</td>\n",
              "      <td>All Levels</td>\n",
              "      <td>1.000000</td>\n",
              "      <td>Web Development</td>\n",
              "      <td>6</td>\n",
              "      <td>2014</td>\n",
              "    </tr>\n",
              "    <tr>\n",
              "      <th>472</th>\n",
              "      <td>True</td>\n",
              "      <td>50</td>\n",
              "      <td>618</td>\n",
              "      <td>10</td>\n",
              "      <td>19</td>\n",
              "      <td>All Levels</td>\n",
              "      <td>2.000000</td>\n",
              "      <td>Business Finance</td>\n",
              "      <td>10</td>\n",
              "      <td>2015</td>\n",
              "    </tr>\n",
              "    <tr>\n",
              "      <th>606</th>\n",
              "      <td>True</td>\n",
              "      <td>20</td>\n",
              "      <td>76</td>\n",
              "      <td>14</td>\n",
              "      <td>21</td>\n",
              "      <td>All Levels</td>\n",
              "      <td>2.000000</td>\n",
              "      <td>Business Finance</td>\n",
              "      <td>6</td>\n",
              "      <td>2016</td>\n",
              "    </tr>\n",
              "    <tr>\n",
              "      <th>242</th>\n",
              "      <td>True</td>\n",
              "      <td>50</td>\n",
              "      <td>1566</td>\n",
              "      <td>48</td>\n",
              "      <td>25</td>\n",
              "      <td>All Levels</td>\n",
              "      <td>2.500000</td>\n",
              "      <td>Business Finance</td>\n",
              "      <td>10</td>\n",
              "      <td>2015</td>\n",
              "    </tr>\n",
              "    <tr>\n",
              "      <th>3048</th>\n",
              "      <td>True</td>\n",
              "      <td>40</td>\n",
              "      <td>670</td>\n",
              "      <td>33</td>\n",
              "      <td>37</td>\n",
              "      <td>Beginner Level</td>\n",
              "      <td>4.500000</td>\n",
              "      <td>Web Development</td>\n",
              "      <td>2</td>\n",
              "      <td>2016</td>\n",
              "    </tr>\n",
              "    <tr>\n",
              "      <th>1006</th>\n",
              "      <td>True</td>\n",
              "      <td>50</td>\n",
              "      <td>119</td>\n",
              "      <td>0</td>\n",
              "      <td>27</td>\n",
              "      <td>All Levels</td>\n",
              "      <td>5.000000</td>\n",
              "      <td>Business Finance</td>\n",
              "      <td>2</td>\n",
              "      <td>2015</td>\n",
              "    </tr>\n",
              "    <tr>\n",
              "      <th>1116</th>\n",
              "      <td>True</td>\n",
              "      <td>30</td>\n",
              "      <td>384</td>\n",
              "      <td>40</td>\n",
              "      <td>44</td>\n",
              "      <td>All Levels</td>\n",
              "      <td>10.500000</td>\n",
              "      <td>Business Finance</td>\n",
              "      <td>8</td>\n",
              "      <td>2015</td>\n",
              "    </tr>\n",
              "    <tr>\n",
              "      <th>321</th>\n",
              "      <td>True</td>\n",
              "      <td>50</td>\n",
              "      <td>844</td>\n",
              "      <td>33</td>\n",
              "      <td>40</td>\n",
              "      <td>All Levels</td>\n",
              "      <td>2.000000</td>\n",
              "      <td>Business Finance</td>\n",
              "      <td>7</td>\n",
              "      <td>2015</td>\n",
              "    </tr>\n",
              "    <tr>\n",
              "      <th>1219</th>\n",
              "      <td>True</td>\n",
              "      <td>95</td>\n",
              "      <td>6858</td>\n",
              "      <td>382</td>\n",
              "      <td>41</td>\n",
              "      <td>Beginner Level</td>\n",
              "      <td>3.500000</td>\n",
              "      <td>Graphic Design</td>\n",
              "      <td>11</td>\n",
              "      <td>2015</td>\n",
              "    </tr>\n",
              "    <tr>\n",
              "      <th>1834</th>\n",
              "      <td>True</td>\n",
              "      <td>20</td>\n",
              "      <td>605</td>\n",
              "      <td>21</td>\n",
              "      <td>11</td>\n",
              "      <td>Beginner Level</td>\n",
              "      <td>0.700000</td>\n",
              "      <td>Musical Instruments</td>\n",
              "      <td>7</td>\n",
              "      <td>2015</td>\n",
              "    </tr>\n",
              "    <tr>\n",
              "      <th>1682</th>\n",
              "      <td>True</td>\n",
              "      <td>50</td>\n",
              "      <td>1132</td>\n",
              "      <td>1</td>\n",
              "      <td>29</td>\n",
              "      <td>All Levels</td>\n",
              "      <td>2.000000</td>\n",
              "      <td>Graphic Design</td>\n",
              "      <td>7</td>\n",
              "      <td>2015</td>\n",
              "    </tr>\n",
              "    <tr>\n",
              "      <th>3559</th>\n",
              "      <td>True</td>\n",
              "      <td>195</td>\n",
              "      <td>1839</td>\n",
              "      <td>91</td>\n",
              "      <td>47</td>\n",
              "      <td>All Levels</td>\n",
              "      <td>5.000000</td>\n",
              "      <td>Web Development</td>\n",
              "      <td>6</td>\n",
              "      <td>2016</td>\n",
              "    </tr>\n",
              "    <tr>\n",
              "      <th>1920</th>\n",
              "      <td>True</td>\n",
              "      <td>20</td>\n",
              "      <td>936</td>\n",
              "      <td>9</td>\n",
              "      <td>12</td>\n",
              "      <td>Beginner Level</td>\n",
              "      <td>0.666667</td>\n",
              "      <td>Musical Instruments</td>\n",
              "      <td>9</td>\n",
              "      <td>2016</td>\n",
              "    </tr>\n",
              "    <tr>\n",
              "      <th>3448</th>\n",
              "      <td>True</td>\n",
              "      <td>40</td>\n",
              "      <td>1588</td>\n",
              "      <td>8</td>\n",
              "      <td>15</td>\n",
              "      <td>Beginner Level</td>\n",
              "      <td>0.566667</td>\n",
              "      <td>Web Development</td>\n",
              "      <td>5</td>\n",
              "      <td>2015</td>\n",
              "    </tr>\n",
              "    <tr>\n",
              "      <th>2646</th>\n",
              "      <td>True</td>\n",
              "      <td>95</td>\n",
              "      <td>502</td>\n",
              "      <td>62</td>\n",
              "      <td>59</td>\n",
              "      <td>Beginner Level</td>\n",
              "      <td>5.000000</td>\n",
              "      <td>Web Development</td>\n",
              "      <td>12</td>\n",
              "      <td>2016</td>\n",
              "    </tr>\n",
              "    <tr>\n",
              "      <th>163</th>\n",
              "      <td>True</td>\n",
              "      <td>195</td>\n",
              "      <td>1420</td>\n",
              "      <td>70</td>\n",
              "      <td>29</td>\n",
              "      <td>All Levels</td>\n",
              "      <td>2.500000</td>\n",
              "      <td>Business Finance</td>\n",
              "      <td>4</td>\n",
              "      <td>2016</td>\n",
              "    </tr>\n",
              "    <tr>\n",
              "      <th>1975</th>\n",
              "      <td>True</td>\n",
              "      <td>55</td>\n",
              "      <td>1203</td>\n",
              "      <td>26</td>\n",
              "      <td>10</td>\n",
              "      <td>Beginner Level</td>\n",
              "      <td>1.000000</td>\n",
              "      <td>Musical Instruments</td>\n",
              "      <td>10</td>\n",
              "      <td>2015</td>\n",
              "    </tr>\n",
              "    <tr>\n",
              "      <th>2312</th>\n",
              "      <td>True</td>\n",
              "      <td>45</td>\n",
              "      <td>57</td>\n",
              "      <td>9</td>\n",
              "      <td>15</td>\n",
              "      <td>Beginner Level</td>\n",
              "      <td>2.000000</td>\n",
              "      <td>Musical Instruments</td>\n",
              "      <td>2</td>\n",
              "      <td>2016</td>\n",
              "    </tr>\n",
              "    <tr>\n",
              "      <th>3597</th>\n",
              "      <td>True</td>\n",
              "      <td>25</td>\n",
              "      <td>214</td>\n",
              "      <td>34</td>\n",
              "      <td>24</td>\n",
              "      <td>Intermediate Level</td>\n",
              "      <td>2.000000</td>\n",
              "      <td>Web Development</td>\n",
              "      <td>5</td>\n",
              "      <td>2016</td>\n",
              "    </tr>\n",
              "    <tr>\n",
              "      <th>2952</th>\n",
              "      <td>True</td>\n",
              "      <td>55</td>\n",
              "      <td>2012</td>\n",
              "      <td>15</td>\n",
              "      <td>59</td>\n",
              "      <td>All Levels</td>\n",
              "      <td>3.500000</td>\n",
              "      <td>Web Development</td>\n",
              "      <td>3</td>\n",
              "      <td>2017</td>\n",
              "    </tr>\n",
              "    <tr>\n",
              "      <th>1998</th>\n",
              "      <td>True</td>\n",
              "      <td>50</td>\n",
              "      <td>1249</td>\n",
              "      <td>6</td>\n",
              "      <td>69</td>\n",
              "      <td>All Levels</td>\n",
              "      <td>1.500000</td>\n",
              "      <td>Musical Instruments</td>\n",
              "      <td>11</td>\n",
              "      <td>2016</td>\n",
              "    </tr>\n",
              "    <tr>\n",
              "      <th>3455</th>\n",
              "      <td>True</td>\n",
              "      <td>20</td>\n",
              "      <td>1732</td>\n",
              "      <td>15</td>\n",
              "      <td>48</td>\n",
              "      <td>All Levels</td>\n",
              "      <td>4.500000</td>\n",
              "      <td>Web Development</td>\n",
              "      <td>6</td>\n",
              "      <td>2017</td>\n",
              "    </tr>\n",
              "    <tr>\n",
              "      <th>2421</th>\n",
              "      <td>False</td>\n",
              "      <td>0</td>\n",
              "      <td>61</td>\n",
              "      <td>1</td>\n",
              "      <td>31</td>\n",
              "      <td>Beginner Level</td>\n",
              "      <td>1.500000</td>\n",
              "      <td>Musical Instruments</td>\n",
              "      <td>9</td>\n",
              "      <td>2015</td>\n",
              "    </tr>\n",
              "    <tr>\n",
              "      <th>3271</th>\n",
              "      <td>True</td>\n",
              "      <td>20</td>\n",
              "      <td>686</td>\n",
              "      <td>19</td>\n",
              "      <td>21</td>\n",
              "      <td>All Levels</td>\n",
              "      <td>3.000000</td>\n",
              "      <td>Web Development</td>\n",
              "      <td>1</td>\n",
              "      <td>2016</td>\n",
              "    </tr>\n",
              "    <tr>\n",
              "      <th>2200</th>\n",
              "      <td>True</td>\n",
              "      <td>50</td>\n",
              "      <td>232</td>\n",
              "      <td>11</td>\n",
              "      <td>97</td>\n",
              "      <td>All Levels</td>\n",
              "      <td>7.000000</td>\n",
              "      <td>Musical Instruments</td>\n",
              "      <td>1</td>\n",
              "      <td>2015</td>\n",
              "    </tr>\n",
              "    <tr>\n",
              "      <th>3537</th>\n",
              "      <td>True</td>\n",
              "      <td>120</td>\n",
              "      <td>1302</td>\n",
              "      <td>18</td>\n",
              "      <td>22</td>\n",
              "      <td>Beginner Level</td>\n",
              "      <td>1.500000</td>\n",
              "      <td>Web Development</td>\n",
              "      <td>1</td>\n",
              "      <td>2016</td>\n",
              "    </tr>\n",
              "    <tr>\n",
              "      <th>2065</th>\n",
              "      <td>True</td>\n",
              "      <td>85</td>\n",
              "      <td>2357</td>\n",
              "      <td>15</td>\n",
              "      <td>53</td>\n",
              "      <td>Beginner Level</td>\n",
              "      <td>5.000000</td>\n",
              "      <td>Musical Instruments</td>\n",
              "      <td>5</td>\n",
              "      <td>2013</td>\n",
              "    </tr>\n",
              "    <tr>\n",
              "      <th>3599</th>\n",
              "      <td>True</td>\n",
              "      <td>20</td>\n",
              "      <td>1128</td>\n",
              "      <td>77</td>\n",
              "      <td>36</td>\n",
              "      <td>Intermediate Level</td>\n",
              "      <td>2.000000</td>\n",
              "      <td>Web Development</td>\n",
              "      <td>10</td>\n",
              "      <td>2012</td>\n",
              "    </tr>\n",
              "    <tr>\n",
              "      <th>833</th>\n",
              "      <td>False</td>\n",
              "      <td>0</td>\n",
              "      <td>8236</td>\n",
              "      <td>144</td>\n",
              "      <td>25</td>\n",
              "      <td>All Levels</td>\n",
              "      <td>5.000000</td>\n",
              "      <td>Business Finance</td>\n",
              "      <td>10</td>\n",
              "      <td>2015</td>\n",
              "    </tr>\n",
              "    <tr>\n",
              "      <th>297</th>\n",
              "      <td>False</td>\n",
              "      <td>0</td>\n",
              "      <td>10540</td>\n",
              "      <td>799</td>\n",
              "      <td>14</td>\n",
              "      <td>Beginner Level</td>\n",
              "      <td>1.500000</td>\n",
              "      <td>Business Finance</td>\n",
              "      <td>4</td>\n",
              "      <td>2014</td>\n",
              "    </tr>\n",
              "    <tr>\n",
              "      <th>1881</th>\n",
              "      <td>True</td>\n",
              "      <td>50</td>\n",
              "      <td>1720</td>\n",
              "      <td>9</td>\n",
              "      <td>26</td>\n",
              "      <td>Beginner Level</td>\n",
              "      <td>2.500000</td>\n",
              "      <td>Musical Instruments</td>\n",
              "      <td>10</td>\n",
              "      <td>2014</td>\n",
              "    </tr>\n",
              "    <tr>\n",
              "      <th>3074</th>\n",
              "      <td>True</td>\n",
              "      <td>170</td>\n",
              "      <td>8625</td>\n",
              "      <td>94</td>\n",
              "      <td>73</td>\n",
              "      <td>Beginner Level</td>\n",
              "      <td>5.000000</td>\n",
              "      <td>Web Development</td>\n",
              "      <td>4</td>\n",
              "      <td>2016</td>\n",
              "    </tr>\n",
              "    <tr>\n",
              "      <th>3171</th>\n",
              "      <td>True</td>\n",
              "      <td>35</td>\n",
              "      <td>926</td>\n",
              "      <td>102</td>\n",
              "      <td>37</td>\n",
              "      <td>All Levels</td>\n",
              "      <td>2.500000</td>\n",
              "      <td>Web Development</td>\n",
              "      <td>6</td>\n",
              "      <td>2012</td>\n",
              "    </tr>\n",
              "    <tr>\n",
              "      <th>97</th>\n",
              "      <td>True</td>\n",
              "      <td>100</td>\n",
              "      <td>61</td>\n",
              "      <td>18</td>\n",
              "      <td>30</td>\n",
              "      <td>Beginner Level</td>\n",
              "      <td>1.500000</td>\n",
              "      <td>Business Finance</td>\n",
              "      <td>6</td>\n",
              "      <td>2017</td>\n",
              "    </tr>\n",
              "    <tr>\n",
              "      <th>2436</th>\n",
              "      <td>True</td>\n",
              "      <td>25</td>\n",
              "      <td>24</td>\n",
              "      <td>1</td>\n",
              "      <td>49</td>\n",
              "      <td>Intermediate Level</td>\n",
              "      <td>4.500000</td>\n",
              "      <td>Musical Instruments</td>\n",
              "      <td>3</td>\n",
              "      <td>2016</td>\n",
              "    </tr>\n",
              "  </tbody>\n",
              "</table>\n",
              "</div>"
            ],
            "text/plain": [
              "      is_paid  price  num_subscribers  num_reviews  num_lectures               level  content_duration              subject published_month published_year\n",
              "3480     True     50              394           78            22      Beginner Level          1.500000      Web Development               2           2016\n",
              "2830    False      0            21087          154            24      Beginner Level          3.500000      Web Development               4           2014\n",
              "2151     True     40               32            3            11          All Levels          1.000000  Musical Instruments               2           2017\n",
              "148      True     20             2437           12            23          All Levels          1.500000     Business Finance              11           2016\n",
              "95      False      0             1514           66            11      Beginner Level          0.550000     Business Finance               3           2017\n",
              "1831     True     20              122            9            11      Beginner Level          0.633333  Musical Instruments              10           2015\n",
              "982      True     20              176            2            12  Intermediate Level          2.500000     Business Finance               6           2016\n",
              "2015     True     95             2026            3            62  Intermediate Level          2.500000  Musical Instruments               3           2017\n",
              "1065     True     20               28            3            14        Expert Level          1.000000     Business Finance               4           2015\n",
              "812      True     20              978            7            13      Beginner Level          0.533333     Business Finance               1           2016\n",
              "3121     True    105              710          137            49      Beginner Level          3.500000      Web Development               4           2017\n",
              "684      True     20              147            4             5          All Levels          1.000000     Business Finance               8           2013\n",
              "126      True     20             1951           30            20  Intermediate Level          0.550000     Business Finance              10           2015\n",
              "2375     True     95               14            1            34      Beginner Level          2.500000  Musical Instruments               4           2016\n",
              "3149     True    195             1121          174            62  Intermediate Level          5.000000      Web Development               5           2017\n",
              "2861     True     20             1517            4            12          All Levels          1.000000      Web Development               6           2014\n",
              "472      True     50              618           10            19          All Levels          2.000000     Business Finance              10           2015\n",
              "606      True     20               76           14            21          All Levels          2.000000     Business Finance               6           2016\n",
              "242      True     50             1566           48            25          All Levels          2.500000     Business Finance              10           2015\n",
              "3048     True     40              670           33            37      Beginner Level          4.500000      Web Development               2           2016\n",
              "1006     True     50              119            0            27          All Levels          5.000000     Business Finance               2           2015\n",
              "1116     True     30              384           40            44          All Levels         10.500000     Business Finance               8           2015\n",
              "321      True     50              844           33            40          All Levels          2.000000     Business Finance               7           2015\n",
              "1219     True     95             6858          382            41      Beginner Level          3.500000       Graphic Design              11           2015\n",
              "1834     True     20              605           21            11      Beginner Level          0.700000  Musical Instruments               7           2015\n",
              "1682     True     50             1132            1            29          All Levels          2.000000       Graphic Design               7           2015\n",
              "3559     True    195             1839           91            47          All Levels          5.000000      Web Development               6           2016\n",
              "1920     True     20              936            9            12      Beginner Level          0.666667  Musical Instruments               9           2016\n",
              "3448     True     40             1588            8            15      Beginner Level          0.566667      Web Development               5           2015\n",
              "2646     True     95              502           62            59      Beginner Level          5.000000      Web Development              12           2016\n",
              "163      True    195             1420           70            29          All Levels          2.500000     Business Finance               4           2016\n",
              "1975     True     55             1203           26            10      Beginner Level          1.000000  Musical Instruments              10           2015\n",
              "2312     True     45               57            9            15      Beginner Level          2.000000  Musical Instruments               2           2016\n",
              "3597     True     25              214           34            24  Intermediate Level          2.000000      Web Development               5           2016\n",
              "2952     True     55             2012           15            59          All Levels          3.500000      Web Development               3           2017\n",
              "1998     True     50             1249            6            69          All Levels          1.500000  Musical Instruments              11           2016\n",
              "3455     True     20             1732           15            48          All Levels          4.500000      Web Development               6           2017\n",
              "2421    False      0               61            1            31      Beginner Level          1.500000  Musical Instruments               9           2015\n",
              "3271     True     20              686           19            21          All Levels          3.000000      Web Development               1           2016\n",
              "2200     True     50              232           11            97          All Levels          7.000000  Musical Instruments               1           2015\n",
              "3537     True    120             1302           18            22      Beginner Level          1.500000      Web Development               1           2016\n",
              "2065     True     85             2357           15            53      Beginner Level          5.000000  Musical Instruments               5           2013\n",
              "3599     True     20             1128           77            36  Intermediate Level          2.000000      Web Development              10           2012\n",
              "833     False      0             8236          144            25          All Levels          5.000000     Business Finance              10           2015\n",
              "297     False      0            10540          799            14      Beginner Level          1.500000     Business Finance               4           2014\n",
              "1881     True     50             1720            9            26      Beginner Level          2.500000  Musical Instruments              10           2014\n",
              "3074     True    170             8625           94            73      Beginner Level          5.000000      Web Development               4           2016\n",
              "3171     True     35              926          102            37          All Levels          2.500000      Web Development               6           2012\n",
              "97       True    100               61           18            30      Beginner Level          1.500000     Business Finance               6           2017\n",
              "2436     True     25               24            1            49  Intermediate Level          4.500000  Musical Instruments               3           2016"
            ]
          },
          "metadata": {
            "tags": []
          },
          "execution_count": 8
        }
      ]
    },
    {
      "cell_type": "code",
      "metadata": {
        "colab": {
          "base_uri": "https://localhost:8080/",
          "height": 1000
        },
        "id": "PHNu6E9YjVTc",
        "outputId": "0c8348ff-a4d3-4146-9cd9-0d36a3492f31"
      },
      "source": [
        "sns.pairplot(df.sample(n=50, random_state=5))\r\n",
        "plt.show()"
      ],
      "execution_count": 9,
      "outputs": [
        {
          "output_type": "stream",
          "text": [
            "<string>:6: RuntimeWarning: Converting input from bool to <class 'numpy.uint8'> for compatibility.\n",
            "<string>:6: RuntimeWarning: Converting input from bool to <class 'numpy.uint8'> for compatibility.\n"
          ],
          "name": "stderr"
        },
        {
          "output_type": "display_data",
          "data": {
            "image/png": "[encoded data removed]",
            "text/plain": [
              "<Figure size 1440x1440 with 72 Axes>"
            ]
          },
          "metadata": {
            "tags": [],
            "needs_background": "light"
          }
        }
      ]
    },
    {
      "cell_type": "code",
      "metadata": {
        "id": "eTopp_0G0UNQ"
      },
      "source": [
        "from sklearn.ensemble import RandomForestRegressor\r\n",
        "from sklearn.model_selection import train_test_split\r\n",
        "from sklearn.metrics import mean_squared_error\r\n",
        "from sklearn.preprocessing import MinMaxScaler"
      ],
      "execution_count": 10,
      "outputs": []
    },
    {
      "cell_type": "code",
      "metadata": {
        "colab": {
          "base_uri": "https://localhost:8080/"
        },
        "id": "CSVntuoD0gA_",
        "outputId": "7894556f-7184-4ea9-b757-443a9c530db2"
      },
      "source": [
        "df.info()"
      ],
      "execution_count": 11,
      "outputs": [
        {
          "output_type": "stream",
          "text": [
            "<class 'pandas.core.frame.DataFrame'>\n",
            "RangeIndex: 3678 entries, 0 to 3677\n",
            "Data columns (total 10 columns):\n",
            " #   Column            Non-Null Count  Dtype  \n",
            "---  ------            --------------  -----  \n",
            " 0   is_paid           3678 non-null   bool   \n",
            " 1   price             3678 non-null   int64  \n",
            " 2   num_subscribers   3678 non-null   int64  \n",
            " 3   num_reviews       3678 non-null   int64  \n",
            " 4   num_lectures      3678 non-null   int64  \n",
            " 5   level             3678 non-null   object \n",
            " 6   content_duration  3678 non-null   float64\n",
            " 7   subject           3678 non-null   object \n",
            " 8   published_month   3678 non-null   object \n",
            " 9   published_year    3678 non-null   object \n",
            "dtypes: bool(1), float64(1), int64(4), object(4)\n",
            "memory usage: 262.3+ KB\n"
          ],
          "name": "stdout"
        }
      ]
    },
    {
      "cell_type": "code",
      "metadata": {
        "id": "9vT368Cl0Xr0"
      },
      "source": [
        "num_cols = ['price', 'num_reviews', 'num_lectures', 'content_duration', 'published_year', 'published_month']\r\n",
        "cat_cols = ['is_paid', 'level', 'subject']\r\n",
        "X_data, y_data = df[num_cols].merge(pd.get_dummies(df[cat_cols], drop_first=True ), left_index=True, right_index=True), df['num_subscribers']"
      ],
      "execution_count": 12,
      "outputs": []
    },
    {
      "cell_type": "code",
      "metadata": {
        "colab": {
          "base_uri": "https://localhost:8080/"
        },
        "id": "aupPBbyzCw7p",
        "outputId": "33f22377-44e8-44c0-cfae-86cd56d0c340"
      },
      "source": [
        "X_train, X_test,  y_train, y_test = train_test_split(X_data, y_data, test_size=0.2, random_state=42)\r\n",
        "col_names = X_train.columns\r\n",
        "X_train.shape"
      ],
      "execution_count": 13,
      "outputs": [
        {
          "output_type": "execute_result",
          "data": {
            "text/plain": [
              "(2942, 13)"
            ]
          },
          "metadata": {
            "tags": []
          },
          "execution_count": 13
        }
      ]
    },
    {
      "cell_type": "code",
      "metadata": {
        "colab": {
          "base_uri": "https://localhost:8080/"
        },
        "id": "toHOzbZPC4z0",
        "outputId": "a876959c-28cf-4d56-9bca-35cf57b911ed"
      },
      "source": [
        "scaler = MinMaxScaler()\r\n",
        "scaler = scaler.fit(X_train) \r\n",
        "X_train = scaler.transform(X_train)\r\n",
        "X_test = scaler.transform(X_test)\r\n",
        "X_train.shape"
      ],
      "execution_count": 14,
      "outputs": [
        {
          "output_type": "execute_result",
          "data": {
            "text/plain": [
              "(2942, 13)"
            ]
          },
          "metadata": {
            "tags": []
          },
          "execution_count": 14
        }
      ]
    },
    {
      "cell_type": "code",
      "metadata": {
        "colab": {
          "base_uri": "https://localhost:8080/"
        },
        "id": "YlL3xqasC4tX",
        "outputId": "cb88cb61-73c3-4745-d083-01c1ad4b5ea8"
      },
      "source": [
        "X_train"
      ],
      "execution_count": 15,
      "outputs": [
        {
          "output_type": "execute_result",
          "data": {
            "text/plain": [
              "array([[1.00000000e+00, 6.08489707e-03, 2.43902439e-02, ...,\n",
              "        0.00000000e+00, 0.00000000e+00, 1.00000000e+00],\n",
              "       [1.00000000e-01, 1.23884132e-03, 1.66880616e-02, ...,\n",
              "        0.00000000e+00, 0.00000000e+00, 1.00000000e+00],\n",
              "       [5.50000000e-01, 3.09710330e-02, 1.46341463e-01, ...,\n",
              "        0.00000000e+00, 0.00000000e+00, 1.00000000e+00],\n",
              "       ...,\n",
              "       [2.50000000e-01, 4.37238113e-04, 3.33761232e-02, ...,\n",
              "        0.00000000e+00, 0.00000000e+00, 0.00000000e+00],\n",
              "       [0.00000000e+00, 1.16232465e-02, 3.20924262e-02, ...,\n",
              "        0.00000000e+00, 0.00000000e+00, 1.00000000e+00],\n",
              "       [1.00000000e-01, 1.85826198e-03, 9.49935815e-02, ...,\n",
              "        0.00000000e+00, 0.00000000e+00, 1.00000000e+00]])"
            ]
          },
          "metadata": {
            "tags": []
          },
          "execution_count": 15
        }
      ]
    },
    {
      "cell_type": "code",
      "metadata": {
        "colab": {
          "base_uri": "https://localhost:8080/"
        },
        "id": "M3RfS5Du1mIc",
        "outputId": "9af9f407-c743-4e6d-e755-d90d6517c8a1"
      },
      "source": [
        "\r\n",
        "model = RandomForestRegressor(n_estimators=500, random_state=42)\r\n",
        "\r\n",
        "model.fit(X_train, y_train)\r\n",
        "y_train_preds = model.predict(X_train)\r\n",
        "print(\"Mean Squared Error on training data is: {:.2f}\".format(mean_squared_error(y_train_preds, y_train)))\r\n",
        "y_pred = model.predict(X_test)\r\n",
        "print(\"Mean Squared Error on testing data is: {:.2f}\".format(mean_squared_error(y_pred, y_test)))\r\n"
      ],
      "execution_count": 25,
      "outputs": [
        {
          "output_type": "stream",
          "text": [
            "Mean Squared Error on training data is: 6123060.08\n",
            "Mean Squared Error on testing data is: 12003940.58\n"
          ],
          "name": "stdout"
        }
      ]
    },
    {
      "cell_type": "code",
      "metadata": {
        "colab": {
          "base_uri": "https://localhost:8080/",
          "height": 448
        },
        "id": "OF8kwfgL4cKK",
        "outputId": "218ae9f3-51fc-4e6f-93a8-d5fd528bc146"
      },
      "source": [
        "df_feature_importance = pd.DataFrame(model.feature_importances_, index=col_names, columns=['feature importance']).sort_values('feature importance', ascending=False)\r\n",
        "df_feature_importance"
      ],
      "execution_count": 17,
      "outputs": [
        {
          "output_type": "execute_result",
          "data": {
            "text/html": [
              "<div>\n",
              "<style scoped>\n",
              "    .dataframe tbody tr th:only-of-type {\n",
              "        vertical-align: middle;\n",
              "    }\n",
              "\n",
              "    .dataframe tbody tr th {\n",
              "        vertical-align: top;\n",
              "    }\n",
              "\n",
              "    .dataframe thead th {\n",
              "        text-align: right;\n",
              "    }\n",
              "</style>\n",
              "<table border=\"1\" class=\"dataframe\">\n",
              "  <thead>\n",
              "    <tr style=\"text-align: right;\">\n",
              "      <th></th>\n",
              "      <th>feature importance</th>\n",
              "    </tr>\n",
              "  </thead>\n",
              "  <tbody>\n",
              "    <tr>\n",
              "      <th>num_reviews</th>\n",
              "      <td>0.669889</td>\n",
              "    </tr>\n",
              "    <tr>\n",
              "      <th>published_year</th>\n",
              "      <td>0.112155</td>\n",
              "    </tr>\n",
              "    <tr>\n",
              "      <th>published_month</th>\n",
              "      <td>0.053436</td>\n",
              "    </tr>\n",
              "    <tr>\n",
              "      <th>price</th>\n",
              "      <td>0.047898</td>\n",
              "    </tr>\n",
              "    <tr>\n",
              "      <th>num_lectures</th>\n",
              "      <td>0.045838</td>\n",
              "    </tr>\n",
              "    <tr>\n",
              "      <th>content_duration</th>\n",
              "      <td>0.032147</td>\n",
              "    </tr>\n",
              "    <tr>\n",
              "      <th>is_paid</th>\n",
              "      <td>0.016714</td>\n",
              "    </tr>\n",
              "    <tr>\n",
              "      <th>subject_Web Development</th>\n",
              "      <td>0.008568</td>\n",
              "    </tr>\n",
              "    <tr>\n",
              "      <th>level_Beginner Level</th>\n",
              "      <td>0.006630</td>\n",
              "    </tr>\n",
              "    <tr>\n",
              "      <th>subject_Musical Instruments</th>\n",
              "      <td>0.003609</td>\n",
              "    </tr>\n",
              "    <tr>\n",
              "      <th>subject_Graphic Design</th>\n",
              "      <td>0.001787</td>\n",
              "    </tr>\n",
              "    <tr>\n",
              "      <th>level_Intermediate Level</th>\n",
              "      <td>0.001229</td>\n",
              "    </tr>\n",
              "    <tr>\n",
              "      <th>level_Expert Level</th>\n",
              "      <td>0.000099</td>\n",
              "    </tr>\n",
              "  </tbody>\n",
              "</table>\n",
              "</div>"
            ],
            "text/plain": [
              "                             feature importance\n",
              "num_reviews                            0.669889\n",
              "published_year                         0.112155\n",
              "published_month                        0.053436\n",
              "price                                  0.047898\n",
              "num_lectures                           0.045838\n",
              "content_duration                       0.032147\n",
              "is_paid                                0.016714\n",
              "subject_Web Development                0.008568\n",
              "level_Beginner Level                   0.006630\n",
              "subject_Musical Instruments            0.003609\n",
              "subject_Graphic Design                 0.001787\n",
              "level_Intermediate Level               0.001229\n",
              "level_Expert Level                     0.000099"
            ]
          },
          "metadata": {
            "tags": []
          },
          "execution_count": 17
        }
      ]
    },
    {
      "cell_type": "code",
      "metadata": {
        "colab": {
          "base_uri": "https://localhost:8080/",
          "height": 624
        },
        "id": "3FjRZOcO144c",
        "outputId": "62a44d24-891c-419e-ff9a-c97bc0057e52"
      },
      "source": [
        "fig, _ = plt.subplots(figsize=(15,10))\r\n",
        "sns.barplot(x = df_feature_importance[\"feature importance\"][:7], y = df_feature_importance.index[:7], orient='h')"
      ],
      "execution_count": 20,
      "outputs": [
        {
          "output_type": "execute_result",
          "data": {
            "text/plain": [
              "<matplotlib.axes._subplots.AxesSubplot at 0x7f624fce6b38>"
            ]
          },
          "metadata": {
            "tags": []
          },
          "execution_count": 20
        },
        {
          "output_type": "display_data",
          "data": {
            "image/png": "[encoded data removed]",
            "text/plain": [
              "<Figure size 1080x720 with 1 Axes>"
            ]
          },
          "metadata": {
            "tags": [],
            "needs_background": "light"
          }
        }
      ]
    },
    {
      "cell_type": "code",
      "metadata": {
        "id": "0uTg2N-ZTL31"
      },
      "source": [
        "# Hyperparameters tuning\r\n",
        "n_estimators = [int(x) for x in np.linspace(100, 500, num = 5)]\r\n",
        "max_features = ['auto', 'sqrt', 'log2']\r\n",
        "max_depth = [int(x) for x in np.linspace(1, 30, num = 20)]\r\n",
        "max_depth.append(None)\r\n",
        "min_samples_split = [2, 3, 4, 5, 8]\r\n",
        "min_samples_leaf = [1, 2, 3, 4, 5]\r\n",
        "bootstrap = [True, False]\r\n",
        "warm_start = [True, False]\r\n",
        "random_grid = {'n_estimators' : n_estimators,\r\n",
        "               'max_features': max_features,\r\n",
        "               'max_depth': max_depth,\r\n",
        "               'min_samples_split': min_samples_split,\r\n",
        "               'min_samples_leaf': min_samples_leaf,\r\n",
        "               'bootstrap': bootstrap, \r\n",
        "               'warm_start': warm_start}"
      ],
      "execution_count": 45,
      "outputs": []
    },
    {
      "cell_type": "code",
      "metadata": {
        "colab": {
          "base_uri": "https://localhost:8080/"
        },
        "id": "GPHtK_aNTO2D",
        "outputId": "966cf4ed-554c-49d7-9141-f85c143de665"
      },
      "source": [
        "model = RandomForestRegressor(random_state=42, verbose = 1)\r\n",
        "random_search = RandomizedSearchCV(model, param_distributions=random_grid, cv = 3, n_iter=1000, n_jobs=-1, random_state=42, scoring='neg_mean_squared_error')\r\n",
        "random_search.fit(X_train, y_train)"
      ],
      "execution_count": 46,
      "outputs": [
        {
          "output_type": "stream",
          "text": [
            "[Parallel(n_jobs=1)]: Using backend SequentialBackend with 1 concurrent workers.\n",
            "[Parallel(n_jobs=1)]: Done 500 out of 500 | elapsed:    4.5s finished\n"
          ],
          "name": "stderr"
        },
        {
          "output_type": "execute_result",
          "data": {
            "text/plain": [
              "RandomizedSearchCV(cv=3, error_score=nan,\n",
              "                   estimator=RandomForestRegressor(bootstrap=True,\n",
              "                                                   ccp_alpha=0.0,\n",
              "                                                   criterion='mse',\n",
              "                                                   max_depth=None,\n",
              "                                                   max_features='auto',\n",
              "                                                   max_leaf_nodes=None,\n",
              "                                                   max_samples=None,\n",
              "                                                   min_impurity_decrease=0.0,\n",
              "                                                   min_impurity_split=None,\n",
              "                                                   min_samples_leaf=1,\n",
              "                                                   min_samples_split=2,\n",
              "                                                   min_weight_fraction_leaf=0.0,\n",
              "                                                   n_estimators=100,\n",
              "                                                   n_jobs=None, oob_score=Fals...\n",
              "                                        'max_depth': [1, 2, 4, 5, 7, 8, 10, 11,\n",
              "                                                      13, 14, 16, 17, 19, 20,\n",
              "                                                      22, 23, 25, 26, 28, 30,\n",
              "                                                      None],\n",
              "                                        'max_features': ['auto', 'sqrt',\n",
              "                                                         'log2'],\n",
              "                                        'min_samples_leaf': [1, 2, 3, 4, 5],\n",
              "                                        'min_samples_split': [2, 3, 4, 5, 8],\n",
              "                                        'n_estimators': [100, 200, 300, 400,\n",
              "                                                         500],\n",
              "                                        'warm_start': [True, False]},\n",
              "                   pre_dispatch='2*n_jobs', random_state=42, refit=True,\n",
              "                   return_train_score=False, scoring='neg_mean_squared_error',\n",
              "                   verbose=0)"
            ]
          },
          "metadata": {
            "tags": []
          },
          "execution_count": 46
        }
      ]
    },
    {
      "cell_type": "code",
      "metadata": {
        "colab": {
          "base_uri": "https://localhost:8080/"
        },
        "id": "qkEfzhsxU6B6",
        "outputId": "337d63ab-8356-4c58-f52b-60dae31e389a"
      },
      "source": [
        "random_search.best_estimator_"
      ],
      "execution_count": 47,
      "outputs": [
        {
          "output_type": "execute_result",
          "data": {
            "text/plain": [
              "RandomForestRegressor(bootstrap=True, ccp_alpha=0.0, criterion='mse',\n",
              "                      max_depth=None, max_features='auto', max_leaf_nodes=None,\n",
              "                      max_samples=None, min_impurity_decrease=0.0,\n",
              "                      min_impurity_split=None, min_samples_leaf=3,\n",
              "                      min_samples_split=3, min_weight_fraction_leaf=0.0,\n",
              "                      n_estimators=500, n_jobs=None, oob_score=False,\n",
              "                      random_state=42, verbose=1, warm_start=False)"
            ]
          },
          "metadata": {
            "tags": []
          },
          "execution_count": 47
        }
      ]
    },
    {
      "cell_type": "code",
      "metadata": {
        "colab": {
          "base_uri": "https://localhost:8080/"
        },
        "id": "UrWZX8iRTYsD",
        "outputId": "ede1cdcf-0eb5-4217-be13-cbb15b16bfd1"
      },
      "source": [
        "# Best Model evaluation\r\n",
        "\r\n",
        "model = random_search.best_estimator_\r\n",
        "\r\n",
        "y_train_pred = model.predict(X_train)\r\n",
        "y_test_pred = model.predict(X_test)\r\n",
        "\r\n",
        "#y_test_prob = model.predict_proba(X_test)[:,1]\r\n",
        "print(\"Mean Squared Error on training data is: {:.2f}\".format(mean_squared_error(y_train_pred, y_train)))\r\n",
        "print(\"Mean Squared Error on testing data is: {:.2f}\".format(mean_squared_error(y_test_pred, y_test)))\r\n"
      ],
      "execution_count": 48,
      "outputs": [
        {
          "output_type": "stream",
          "text": [
            "[Parallel(n_jobs=1)]: Using backend SequentialBackend with 1 concurrent workers.\n"
          ],
          "name": "stderr"
        },
        {
          "output_type": "stream",
          "text": [
            "Mean Squared Error on training data is: 19585969.73\n",
            "Mean Squared Error on testing data is: 11376549.29\n"
          ],
          "name": "stdout"
        },
        {
          "output_type": "stream",
          "text": [
            "[Parallel(n_jobs=1)]: Done 500 out of 500 | elapsed:    0.2s finished\n",
            "[Parallel(n_jobs=1)]: Using backend SequentialBackend with 1 concurrent workers.\n",
            "[Parallel(n_jobs=1)]: Done 500 out of 500 | elapsed:    0.1s finished\n"
          ],
          "name": "stderr"
        }
      ]
    },
    {
      "cell_type": "code",
      "metadata": {
        "colab": {
          "base_uri": "https://localhost:8080/"
        },
        "id": "bxtPg5NWoXi8",
        "outputId": "c81cca88-f660-4190-9f37-71862c9d5550"
      },
      "source": [
        "!pip install shap"
      ],
      "execution_count": 51,
      "outputs": [
        {
          "output_type": "stream",
          "text": [
            "Collecting shap\n",
            "\u001b[?25l  Downloading https://files.pythonhosted.org/packages/44/20/54381999efe3000f70a7f68af79ba857cfa3f82278ab0e02e6ba1c06b002/shap-0.38.1.tar.gz (352kB)\n",
            "\r\u001b[K     |█                               | 10kB 11.7MB/s eta 0:00:01\r\u001b[K     |█▉                              | 20kB 15.9MB/s eta 0:00:01\r\u001b[K     |██▉                             | 30kB 11.3MB/s eta 0:00:01\r\u001b[K     |███▊                            | 40kB 8.5MB/s eta 0:00:01\r\u001b[K     |████▋                           | 51kB 5.6MB/s eta 0:00:01\r\u001b[K     |█████▋                          | 61kB 5.9MB/s eta 0:00:01\r\u001b[K     |██████▌                         | 71kB 6.0MB/s eta 0:00:01\r\u001b[K     |███████▍                        | 81kB 6.3MB/s eta 0:00:01\r\u001b[K     |████████▍                       | 92kB 6.0MB/s eta 0:00:01\r\u001b[K     |█████████▎                      | 102kB 6.5MB/s eta 0:00:01\r\u001b[K     |██████████▎                     | 112kB 6.5MB/s eta 0:00:01\r\u001b[K     |███████████▏                    | 122kB 6.5MB/s eta 0:00:01\r\u001b[K     |████████████                    | 133kB 6.5MB/s eta 0:00:01\r\u001b[K     |█████████████                   | 143kB 6.5MB/s eta 0:00:01\r\u001b[K     |██████████████                  | 153kB 6.5MB/s eta 0:00:01\r\u001b[K     |██████████████▉                 | 163kB 6.5MB/s eta 0:00:01\r\u001b[K     |███████████████▉                | 174kB 6.5MB/s eta 0:00:01\r\u001b[K     |████████████████▊               | 184kB 6.5MB/s eta 0:00:01\r\u001b[K     |█████████████████▊              | 194kB 6.5MB/s eta 0:00:01\r\u001b[K     |██████████████████▋             | 204kB 6.5MB/s eta 0:00:01\r\u001b[K     |███████████████████▌            | 215kB 6.5MB/s eta 0:00:01\r\u001b[K     |████████████████████▌           | 225kB 6.5MB/s eta 0:00:01\r\u001b[K     |█████████████████████▍          | 235kB 6.5MB/s eta 0:00:01\r\u001b[K     |██████████████████████▎         | 245kB 6.5MB/s eta 0:00:01\r\u001b[K     |███████████████████████▎        | 256kB 6.5MB/s eta 0:00:01\r\u001b[K     |████████████████████████▏       | 266kB 6.5MB/s eta 0:00:01\r\u001b[K     |█████████████████████████       | 276kB 6.5MB/s eta 0:00:01\r\u001b[K     |██████████████████████████      | 286kB 6.5MB/s eta 0:00:01\r\u001b[K     |███████████████████████████     | 296kB 6.5MB/s eta 0:00:01\r\u001b[K     |████████████████████████████    | 307kB 6.5MB/s eta 0:00:01\r\u001b[K     |████████████████████████████▉   | 317kB 6.5MB/s eta 0:00:01\r\u001b[K     |█████████████████████████████▊  | 327kB 6.5MB/s eta 0:00:01\r\u001b[K     |██████████████████████████████▊ | 337kB 6.5MB/s eta 0:00:01\r\u001b[K     |███████████████████████████████▋| 348kB 6.5MB/s eta 0:00:01\r\u001b[K     |████████████████████████████████| 358kB 6.5MB/s \n",
            "\u001b[?25hRequirement already satisfied: numpy in /usr/local/lib/python3.6/dist-packages (from shap) (1.19.5)\n",
            "Requirement already satisfied: scipy in /usr/local/lib/python3.6/dist-packages (from shap) (1.4.1)\n",
            "Requirement already satisfied: scikit-learn in /usr/local/lib/python3.6/dist-packages (from shap) (0.22.2.post1)\n",
            "Requirement already satisfied: pandas in /usr/local/lib/python3.6/dist-packages (from shap) (1.1.5)\n",
            "Requirement already satisfied: tqdm>4.25.0 in /usr/local/lib/python3.6/dist-packages (from shap) (4.41.1)\n",
            "Collecting slicer==0.0.7\n",
            "  Downloading https://files.pythonhosted.org/packages/78/c2/b3f55dfdb8af9812fdb9baf70cacf3b9e82e505b2bd4324d588888b81202/slicer-0.0.7-py3-none-any.whl\n",
            "Requirement already satisfied: numba in /usr/local/lib/python3.6/dist-packages (from shap) (0.48.0)\n",
            "Requirement already satisfied: cloudpickle in /usr/local/lib/python3.6/dist-packages (from shap) (1.3.0)\n",
            "Requirement already satisfied: joblib>=0.11 in /usr/local/lib/python3.6/dist-packages (from scikit-learn->shap) (1.0.0)\n",
            "Requirement already satisfied: pytz>=2017.2 in /usr/local/lib/python3.6/dist-packages (from pandas->shap) (2018.9)\n",
            "Requirement already satisfied: python-dateutil>=2.7.3 in /usr/local/lib/python3.6/dist-packages (from pandas->shap) (2.8.1)\n",
            "Requirement already satisfied: setuptools in /usr/local/lib/python3.6/dist-packages (from numba->shap) (51.1.1)\n",
            "Requirement already satisfied: llvmlite<0.32.0,>=0.31.0dev0 in /usr/local/lib/python3.6/dist-packages (from numba->shap) (0.31.0)\n",
            "Requirement already satisfied: six>=1.5 in /usr/local/lib/python3.6/dist-packages (from python-dateutil>=2.7.3->pandas->shap) (1.15.0)\n",
            "Building wheels for collected packages: shap\n",
            "  Building wheel for shap (setup.py) ... \u001b[?25l\u001b[?25hdone\n",
            "  Created wheel for shap: filename=shap-0.38.1-cp36-cp36m-linux_x86_64.whl size=489402 sha256=917392d1afbef87a546b3febca10ff8db50660a628c90865f9ab356b9a02b6e7\n",
            "  Stored in directory: /root/.cache/pip/wheels/a8/fb/e4/88012be41842b9be62ae18d82d1b1e880daf8539d1fef1fa00\n",
            "Successfully built shap\n",
            "Installing collected packages: slicer, shap\n",
            "Successfully installed shap-0.38.1 slicer-0.0.7\n"
          ],
          "name": "stdout"
        }
      ]
    },
    {
      "cell_type": "code",
      "metadata": {
        "colab": {
          "base_uri": "https://localhost:8080/",
          "height": 349
        },
        "id": "W3izMvFxYiYu",
        "outputId": "87259ab9-130d-4f72-e69a-ab355930a224"
      },
      "source": [
        "import shap \r\n",
        "explainer = shap.TreeExplainer(model)\r\n",
        "shap_values = explainer.shap_values(X_test)"
      ],
      "execution_count": 50,
      "outputs": [
        {
          "output_type": "error",
          "ename": "ModuleNotFoundError",
          "evalue": "ignored",
          "traceback": [
            "\u001b[0;31m---------------------------------------------------------------------------\u001b[0m",
            "\u001b[0;31mModuleNotFoundError\u001b[0m                       Traceback (most recent call last)",
            "\u001b[0;32m<ipython-input-50-7ac626d0f70b>\u001b[0m in \u001b[0;36m<module>\u001b[0;34m()\u001b[0m\n\u001b[0;32m----> 1\u001b[0;31m \u001b[0;32mimport\u001b[0m \u001b[0mshap\u001b[0m\u001b[0;34m\u001b[0m\u001b[0;34m\u001b[0m\u001b[0m\n\u001b[0m\u001b[1;32m      2\u001b[0m \u001b[0mexplainer\u001b[0m \u001b[0;34m=\u001b[0m \u001b[0mshap\u001b[0m\u001b[0;34m.\u001b[0m\u001b[0mTreeExplainer\u001b[0m\u001b[0;34m(\u001b[0m\u001b[0mmodel\u001b[0m\u001b[0;34m)\u001b[0m\u001b[0;34m\u001b[0m\u001b[0;34m\u001b[0m\u001b[0m\n\u001b[1;32m      3\u001b[0m \u001b[0mshap_values\u001b[0m \u001b[0;34m=\u001b[0m \u001b[0mexplainer\u001b[0m\u001b[0;34m.\u001b[0m\u001b[0mshap_values\u001b[0m\u001b[0;34m(\u001b[0m\u001b[0mX_test\u001b[0m\u001b[0;34m)\u001b[0m\u001b[0;34m\u001b[0m\u001b[0;34m\u001b[0m\u001b[0m\n",
            "\u001b[0;31mModuleNotFoundError\u001b[0m: No module named 'shap'",
            "",
            "\u001b[0;31m---------------------------------------------------------------------------\u001b[0;32m\nNOTE: If your import is failing due to a missing package, you can\nmanually install dependencies using either !pip or !apt.\n\nTo view examples of installing some common dependencies, click the\n\"Open Examples\" button below.\n\u001b[0;31m---------------------------------------------------------------------------\u001b[0m\n"
          ]
        }
      ]
    },
    {
      "cell_type": "code",
      "metadata": {
        "id": "rZ_iMTzrf-yV"
      },
      "source": [
        "shap.summary_plot(shap_values[1], X_test, plot_type=\"bar\")"
      ],
      "execution_count": null,
      "outputs": []
    },
    {
      "cell_type": "code",
      "metadata": {
        "id": "DLOjKwuof_zT"
      },
      "source": [
        "#We can use a `summary_plot` to plot our Shapely Values for class `1`\r\n",
        "shap.summary_plot(shap_values[1], X_test)"
      ],
      "execution_count": null,
      "outputs": []
    },
    {
      "cell_type": "code",
      "metadata": {
        "id": "VVZCBImnf_hr"
      },
      "source": [
        "shap.dependence_plot('ca', shap_values[1], X_test, interaction_index=None)"
      ],
      "execution_count": null,
      "outputs": []
    },
    {
      "cell_type": "code",
      "metadata": {
        "id": "zl10pG8zgVSw"
      },
      "source": [
        "shap.dependence_plot('ca', shap_values[1], X_test)"
      ],
      "execution_count": null,
      "outputs": []
    },
    {
      "cell_type": "code",
      "metadata": {
        "id": "4kS__K19gWQ9"
      },
      "source": [
        "shap.initjs()\r\n",
        "shap.force_plot(explainer.expected_value[1], shap_values[1], X_test)"
      ],
      "execution_count": null,
      "outputs": []
    },
    {
      "cell_type": "code",
      "metadata": {
        "id": "czFxKUr3gWqJ"
      },
      "source": [
        "#Get indexes for a Group of Points\r\n",
        "sample_test_idx = X_test.index.get_indexer_for(X_test.sample(10).index)\r\n",
        "\r\n",
        "#To highlight False Negatives from these points\r\n",
        "FN = (y_test_pred[sample_test_idx] == 0) &\\\r\n",
        "     (y_test.iloc[sample_test_idx] == 1).to_numpy() \r\n",
        "#Set the expected value for the positive class\r\n",
        "expected_value = explainer.expected_value[1]\r\n",
        "\r\n",
        "#Reset matplotlib style so trat it's not seaborn's\r\n",
        "# sns.reset_orig()\r\n",
        "# plt.rcParams.update(orig_plt_params)\r\n",
        "\r\n",
        "#Display decision plot with FN highlighted\r\n",
        "shap.decision_plot(expected_value, shap_values[1][sample_test_idx],\\\r\n",
        "                   X_test.iloc[sample_test_idx], highlight=FN)"
      ],
      "execution_count": null,
      "outputs": []
    },
    {
      "cell_type": "code",
      "metadata": {
        "id": "JnMI7zJigW1x"
      },
      "source": [
        "#positive case with heart disease\r\n",
        "shap.force_plot(expected_value, shap_values[1][X_test.index==126],\\\r\n",
        "                X_test[X_test.index==126])"
      ],
      "execution_count": null,
      "outputs": []
    },
    {
      "cell_type": "code",
      "metadata": {
        "id": "wq-WdbU_gW7_"
      },
      "source": [
        "#negative case without heart disease\r\n",
        "shap.force_plot(expected_value, shap_values[1][X_test.index==184],\\\r\n",
        "                X_test[X_test.index==184])"
      ],
      "execution_count": null,
      "outputs": []
    },
    {
      "cell_type": "code",
      "metadata": {
        "id": "4kFRDyUCgW_R"
      },
      "source": [
        "import lime\r\n",
        "from lime.lime_tabular import LimeTabularExplainer\r\n",
        "\r\n",
        "explainer = lime.lime_tabular.LimeTabularExplainer(X_test.values,\\\r\n",
        "                        feature_names=X_test.columns, \\\r\n",
        "                        class_names=['Not Heart Disease', 'Heart Disease'])"
      ],
      "execution_count": null,
      "outputs": []
    },
    {
      "cell_type": "code",
      "metadata": {
        "id": "RpccdYeggXFh"
      },
      "source": [
        "#positive case with heart disease\r\n",
        "explainer.explain_instance(X_test[X_test.index==10].values[0],\\\r\n",
        "                                    model.predict_proba, num_features=6).\\\r\n",
        "                                    show_in_notebook(predict_proba=True)"
      ],
      "execution_count": null,
      "outputs": []
    },
    {
      "cell_type": "code",
      "metadata": {
        "id": "VJazAgvGgXLa"
      },
      "source": [
        "# negative case without heart disease\r\n",
        "explainer.explain_instance(X_test[X_test.index==219].values[0],\\\r\n",
        "                                    model.predict_proba, num_features=6).\\\r\n",
        "                                    show_in_notebook(predict_proba=True)"
      ],
      "execution_count": null,
      "outputs": []
    },
    {
      "cell_type": "code",
      "metadata": {
        "id": "6OULh9mIgyZZ"
      },
      "source": [
        ""
      ],
      "execution_count": null,
      "outputs": []
    },
    {
      "cell_type": "code",
      "metadata": {
        "id": "IbNHM28zgyVg"
      },
      "source": [
        ""
      ],
      "execution_count": null,
      "outputs": []
    },
    {
      "cell_type": "code",
      "metadata": {
        "id": "eBdJWd6pgySy"
      },
      "source": [
        ""
      ],
      "execution_count": null,
      "outputs": []
    },
    {
      "cell_type": "code",
      "metadata": {
        "id": "Br-KKyOMgyPX"
      },
      "source": [
        ""
      ],
      "execution_count": null,
      "outputs": []
    },
    {
      "cell_type": "code",
      "metadata": {
        "id": "85ULXMS0gyMh"
      },
      "source": [
        ""
      ],
      "execution_count": null,
      "outputs": []
    },
    {
      "cell_type": "code",
      "metadata": {
        "id": "dddPHb1QgyEA"
      },
      "source": [
        ""
      ],
      "execution_count": null,
      "outputs": []
    },
    {
      "cell_type": "code",
      "metadata": {
        "id": "Sb-rGFyUgyAl"
      },
      "source": [
        ""
      ],
      "execution_count": null,
      "outputs": []
    },
    {
      "cell_type": "code",
      "metadata": {
        "id": "XjiDq5mRgx6b"
      },
      "source": [
        ""
      ],
      "execution_count": null,
      "outputs": []
    },
    {
      "cell_type": "code",
      "metadata": {
        "id": "2YB-OHU2gx26"
      },
      "source": [
        ""
      ],
      "execution_count": null,
      "outputs": []
    },
    {
      "cell_type": "code",
      "metadata": {
        "id": "SSWeVbxvgxzW"
      },
      "source": [
        ""
      ],
      "execution_count": null,
      "outputs": []
    },
    {
      "cell_type": "code",
      "metadata": {
        "id": "jXF2eXx7gxXA"
      },
      "source": [
        ""
      ],
      "execution_count": null,
      "outputs": []
    },
    {
      "cell_type": "code",
      "metadata": {
        "id": "y1MLrEwWgXgO"
      },
      "source": [
        ""
      ],
      "execution_count": null,
      "outputs": []
    }
  ]
}